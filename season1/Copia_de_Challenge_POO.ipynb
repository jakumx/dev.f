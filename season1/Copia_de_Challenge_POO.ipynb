{
  "nbformat": 4,
  "nbformat_minor": 0,
  "metadata": {
    "colab": {
      "provenance": [],
      "collapsed_sections": []
    },
    "kernelspec": {
      "name": "python3",
      "display_name": "Python 3"
    },
    "language_info": {
      "name": "python"
    }
  },
  "cells": [
    {
      "cell_type": "markdown",
      "source": [
        "##Ejercicio 1\n",
        "Realizar un programa que conste de una clase llamada Alumno que tenga como atributos el nombre y la nota del alumno. Definir los métodos para inicializar sus atributos, imprimirlos y mostrar un mensaje con el resultado de la nota y si ha aprobado o no.\n"
      ],
      "metadata": {
        "id": "4EFGoEpOl5J9"
      }
    },
    {
      "cell_type": "code",
      "source": [
        "class Student:\n",
        "  def __init__(self, name, grade):\n",
        "    self.name = name\n",
        "    self.grade = grade\n",
        "    self.is_approved()\n",
        "  \n",
        "  def is_approved(self):\n",
        "    message = 'El alumno ' + self.name\n",
        "    if self.grade >= 7:\n",
        "      message += ' esta aprobado'\n",
        "    else:\n",
        "      message += ' esta reprobado'\n",
        "    print(message)\n",
        "\n",
        "Student('mali', 10)\n",
        "Student('josue', 5)\n"
      ],
      "metadata": {
        "id": "P9ullKnYnFfF",
        "colab": {
          "base_uri": "https://localhost:8080/"
        },
        "outputId": "dd14cb0a-df5d-424a-b956-fe2f0a9a06d5"
      },
      "execution_count": null,
      "outputs": [
        {
          "output_type": "stream",
          "name": "stdout",
          "text": [
            "El alumno mali esta aprobado\n",
            "El alumno josue esta reprobado\n"
          ]
        },
        {
          "output_type": "execute_result",
          "data": {
            "text/plain": [
              "<__main__.Student at 0x7f82de3ba5d0>"
            ]
          },
          "metadata": {},
          "execution_count": 17
        }
      ]
    },
    {
      "cell_type": "markdown",
      "source": [
        "##Ejercicio 2\n",
        "Realizar un programa que tenga una clase Persona con las siguientes características. La clase tendrá como atributos el nombre y la edad de una persona. Implementar los métodos necesarios para inicializar los atributos, mostrar los datos e indicar si la persona es mayor de edad o no.\n"
      ],
      "metadata": {
        "id": "b_bGLJVvmDb5"
      }
    },
    {
      "cell_type": "code",
      "source": [
        "class Person:\n",
        "  def __init__(self, name, age):\n",
        "    self.name = name\n",
        "    self.age = age\n",
        "    self.is_adult()\n",
        "  \n",
        "  def is_adult(self):\n",
        "    end_message = 'adulto' if self.age >= 18 else 'menor de edad'\n",
        "    print(f'{self.name} es un {end_message}')\n",
        "\n",
        "Person('Josue', 30)\n",
        "Person('Vicky', 17)\n"
      ],
      "metadata": {
        "id": "t_Kbaj2EnF9N",
        "colab": {
          "base_uri": "https://localhost:8080/"
        },
        "outputId": "e92d1a5d-6f87-41b3-e4a2-d8f2a27cf11a"
      },
      "execution_count": null,
      "outputs": [
        {
          "output_type": "stream",
          "name": "stdout",
          "text": [
            "Josue es un adulto\n",
            "Vicky es un menor de edad\n"
          ]
        },
        {
          "output_type": "execute_result",
          "data": {
            "text/plain": [
              "<__main__.Person at 0x7f82de3f0510>"
            ]
          },
          "metadata": {},
          "execution_count": 16
        }
      ]
    },
    {
      "cell_type": "markdown",
      "source": [
        "##Ejercicio 3\n",
        "Desarrollar un programa que cargue los datos de un triángulo. Implementar una clase con los métodos para inicializar los atributos, imprimir el valor del lado con un tamaño mayor y  el tipo de triángulo que es (equilátero, isósceles o escaleno).\n"
      ],
      "metadata": {
        "id": "Esf21Be0mTBn"
      }
    },
    {
      "cell_type": "code",
      "source": [
        "class Triangle:\n",
        "  ISOCELES = 'isosceles'\n",
        "  EQUILATERAL = 'equilatero'\n",
        "  SCALENE = 'escaleno'\n",
        "\n",
        "  def __init__(self, *edges):\n",
        "    if len(edges) > 3:\n",
        "      print('no puede tener mas de 3 lados')\n",
        "      return\n",
        "    self.edges = edges\n",
        "    self.triangle_type()\n",
        "    self.large_edge()\n",
        "\n",
        "  def triangle_type(self):\n",
        "    triangl = self.EQUILATERAL\n",
        "    if len(self.edges) == 2:\n",
        "      triangl = self.ISOCELES\n",
        "    elif len(self.edges) == 3:\n",
        "      equal_edges = 0\n",
        "      for position_edges ,value in enumerate(self.edges):\n",
        "        for position_range in range(0,2):\n",
        "          if value == self.edges[position_range]:\n",
        "            equal_edges +=1\n",
        "      if equal_edges / 2 == 1:\n",
        "        triangl = self.SCALENE\n",
        "      elif equal_edges / 2 == 2:\n",
        "        triangl = self.ISOCELES\n",
        "      else:\n",
        "        triangl = self.EQUILATERAL\n",
        "    print(f'Es un triangulo {triangl}')\n",
        "\n",
        "  def large_edge(self):\n",
        "    print(f'El lado mas grande es {max(self.edges)}')\n",
        "\n",
        "Triangle(1)\n",
        "Triangle(1,1,1)\n",
        "Triangle(1,2)\n",
        "Triangle(1,2,2)\n",
        "Triangle(1,3,2)\n",
        "Triangle(1,2,3,4)\n"
      ],
      "metadata": {
        "id": "sPqi1jqCnGfD",
        "colab": {
          "base_uri": "https://localhost:8080/"
        },
        "outputId": "6722fd32-4d5e-4a11-9498-78da184952e8"
      },
      "execution_count": null,
      "outputs": [
        {
          "output_type": "stream",
          "name": "stdout",
          "text": [
            "Es un triangulo equilatero\n",
            "El lado mas grande es 1\n",
            "Es un triangulo equilatero\n",
            "El lado mas grande es 1\n",
            "Es un triangulo isosceles\n",
            "El lado mas grande es 2\n",
            "Es un triangulo equilatero\n",
            "El lado mas grande es 2\n",
            "Es un triangulo escaleno\n",
            "El lado mas grande es 3\n",
            "no puede tener mas de 3 lados\n"
          ]
        },
        {
          "output_type": "execute_result",
          "data": {
            "text/plain": [
              "<__main__.Triangle at 0x7f82d6c2a350>"
            ]
          },
          "metadata": {},
          "execution_count": 68
        }
      ]
    },
    {
      "cell_type": "markdown",
      "source": [
        "##Ejercicio 4\n",
        "Realizar un programa en el cual se declaren dos valores enteros por teclado utilizando el método __init__. Calcular después la suma, resta, multiplicación y división. Utilizar un método para cada una e imprimir los resultados obtenidos. Llamar a la clase Calculadora."
      ],
      "metadata": {
        "id": "FuDVAwyLmXM_"
      }
    },
    {
      "cell_type": "code",
      "source": [
        "class Calculator:\n",
        "  def __init__(self):\n",
        "    num_1 = input('primer numero: ')\n",
        "    num_2 = input('segundo numero: ')\n",
        "    self.num1 = int(num_1)\n",
        "    self.num2 = int(num_2)\n",
        "    self.sum_nums()\n",
        "    self.div_nums()\n",
        "    self.mul_nums()\n",
        "    self.res_nums()\n",
        "\n",
        "  def sum_nums(self):\n",
        "    print(self.num1 + self.num2)\n",
        "  \n",
        "  def div_nums(self):\n",
        "    if self.num1 == 0 or self.num2 == 0:\n",
        "      print(0)\n",
        "    else:\n",
        "      print(self.num1 / self.num2)\n",
        "  \n",
        "  def mul_nums(self):\n",
        "    print(self.num1 * self.num2)\n",
        "  \n",
        "  def res_nums(self):\n",
        "    print(self.num1 - self.num2)\n",
        "\n",
        "Calculator()"
      ],
      "metadata": {
        "id": "VnFcFidTnG-O",
        "colab": {
          "base_uri": "https://localhost:8080/"
        },
        "outputId": "4a848e6b-ddb0-49d0-ab21-63c300b4ee6f"
      },
      "execution_count": null,
      "outputs": [
        {
          "output_type": "stream",
          "name": "stdout",
          "text": [
            "primer numero: 1\n",
            "segundo numero: 2\n",
            "3\n",
            "0.5\n",
            "2\n",
            "-1\n"
          ]
        },
        {
          "output_type": "execute_result",
          "data": {
            "text/plain": [
              "<__main__.Calculator at 0x7f8fed25ee50>"
            ]
          },
          "metadata": {},
          "execution_count": 5
        }
      ]
    },
    {
      "cell_type": "markdown",
      "source": [
        "##Ejercicio 5\n",
        "Realizar una clase que administre una agenda. Se debe almacenar para cada contacto el nombre, el teléfono y el email. Además deberá mostrar un menú con las siguientes opciones\n",
        "\n",
        "\n",
        "\n",
        "*   Añadir contacto\n",
        "*   Lista de contactos\n",
        "*   Buscar contacto\n",
        "*   Editar contacto\n",
        "*   Cerrar agenda"
      ],
      "metadata": {
        "id": "NmarrIA6mdo5"
      }
    },
    {
      "cell_type": "code",
      "source": [
        "class Schedule:\n",
        "  options = ['Añadir contacto', 'Lista de contactos', 'Buscar contacto',\n",
        "             'Editar contacto', 'Cerrar agenda']\n",
        "  def __init__(self, contacts = []):\n",
        "    \"\"\"Lista de contactos en tuplas\n",
        "    \"\"\"\n",
        "    self.contacts = contacts\n",
        "    print('Menu: ')\n",
        "    for option in self.options:\n",
        "      print(option)\n",
        "  \n",
        "  def add(self, contact):\n",
        "    \"\"\"Añadir contacto en formato de tupla\"\"\"\n",
        "    self.contacts.append(contact)\n",
        "  \n",
        "  def show(self):\n",
        "    \"\"\"Muestra los contactos en el calendario\"\"\"\n",
        "    for idx, contact in enumerate(self.contacts):\n",
        "      print('index: ', idx, end=' ')\n",
        "      for index, key in enumerate(['nombre:', 'telefono:', 'email']):\n",
        "        print(key, contact[index], sep=' ', end=' ')\n",
        "      print(end='\\n')\n",
        "    \n",
        "  def find(self, value):\n",
        "    \"\"\"Buscar contacto por cualquiera de los tres valores\"\"\"\n",
        "    for indx, contact in enumerate(self.contacts):\n",
        "      for index in range(0,3):\n",
        "        if contact[index] == value:\n",
        "          return f\"index: {indx} contact: {contact}\"\n",
        "    return f\"no se encontro: {value}\"\n",
        "\n",
        "  def edit(self, index, property_contact, value):\n",
        "    \"\"\"editar contacto por index, propiedad y valor\n",
        "    propiedad nombre index 0\n",
        "    propiedad telefono index 1\n",
        "    propiedad email index 2\n",
        "    \"\"\"\n",
        "    index_property = 0\n",
        "    if property_contact == 'phone':\n",
        "      index_property = 1\n",
        "    elif property_contact == 'email':\n",
        "      index_property = 2\n",
        "    elif property_contact != 'name':\n",
        "      return 'solo se pueden phone, email, name'\n",
        "    temp_list = list(self.contacts[index])\n",
        "    temp_list[index_property] = value\n",
        "    self.contacts[index] = tuple(temp_list)\n",
        "  \n",
        "  def close(self):\n",
        "    self.contacts = []\n",
        "\n",
        "calendar = Schedule([('josue', '9999999999', 'josue@example.com')])\n"
      ],
      "metadata": {
        "id": "hvhudvVInHpR",
        "colab": {
          "base_uri": "https://localhost:8080/"
        },
        "outputId": "04e08069-02fd-4c01-e1cc-b72b5c90e159"
      },
      "execution_count": null,
      "outputs": [
        {
          "output_type": "stream",
          "name": "stdout",
          "text": [
            "Menu: \n",
            "Añadir contacto\n",
            "Lista de contactos\n",
            "Buscar contacto\n",
            "Editar contacto\n",
            "Cerrar agenda\n",
            "index:  0 nombre: arturo telefono: 9999999999 email josue@example.com \n"
          ]
        }
      ]
    },
    {
      "cell_type": "markdown",
      "source": [
        "##Ejercicio 6\n",
        "En un banco tienen clientes que pueden hacer depósitos y extracciones de dinero. El banco requiere también al final del día calcular la cantidad de dinero que se ha depositado.\n",
        "\n",
        "Se deberán crear dos clases, la clase cliente y la clase banco. La clase cliente tendrá los atributos nombre y cantidad y los métodos __init__, depositar, extraer, mostrar_total.\n",
        "\n",
        "La clase banco tendrá como atributos 3 objetos de la clase cliente y los métodos __init__, operar y deposito_total."
      ],
      "metadata": {
        "id": "pIFlDlAnmyyh"
      }
    },
    {
      "cell_type": "code",
      "source": [
        "class Bank:\n",
        "  def __init__(self, clients):\n",
        "    self.clients = clients\n",
        "    self.total_deposits_amount = 0\n",
        "\n",
        "  def operate(self, client, operation, amount = 0):\n",
        "    if operation == 'show_total':\n",
        "      return client.show_total()\n",
        "    elif operation == 'deposit':\n",
        "      self.total_deposits_amount += amount\n",
        "      return client.deposit(amount)\n",
        "    elif operation == 'withdraw':\n",
        "      return client.withdraw(amount)\n",
        "    else:\n",
        "      return \"operacion no valida\"\n",
        "    \n",
        "  def total_deposits(self):\n",
        "    return self.total_deposits_amount\n",
        "\n",
        "class Client:\n",
        "  def __init__(self, name, amount):\n",
        "    self.name = name\n",
        "    self.amount = amount\n",
        "\n",
        "  def show_total(self):\n",
        "    return self.amount\n",
        "  \n",
        "  def deposit(self, amount):\n",
        "    self.amount += amount\n",
        "    return self.amount\n",
        "\n",
        "  def withdraw(self, amount):\n",
        "    if amount > self.amount:\n",
        "      return f\"No se puede sacar la cantidad de {amount}\"\n",
        "    \n",
        "    self.amount -= amount\n",
        "    return self.amount\n",
        "\n",
        "client1 = Client('josue', 1_000)\n",
        "client2 = Client('arturo', 500)\n",
        "client3 = Client('Anacleto', 10_000)\n",
        "jaku_bank = Bank([client1, client2, client3])\n",
        "\n",
        "\n",
        "jaku_bank.operate(client1, 'deposit', 1)\n",
        "jaku_bank.operate(client2, 'deposit', 10)\n",
        "jaku_bank.operate(client3, 'deposit', 25)\n",
        "jaku_bank.operate(client1, 'withdraw', 11)\n",
        "print(jaku_bank.operate(client1, 'show_total'))\n",
        "jaku_bank.total_deposits()\n",
        "\n"
      ],
      "metadata": {
        "id": "7gjXBfvCnIQJ",
        "colab": {
          "base_uri": "https://localhost:8080/"
        },
        "outputId": "8ff79864-11e3-4e8c-a08a-d094bbf4b108"
      },
      "execution_count": null,
      "outputs": [
        {
          "output_type": "stream",
          "name": "stdout",
          "text": [
            "990\n"
          ]
        },
        {
          "output_type": "execute_result",
          "data": {
            "text/plain": [
              "36"
            ]
          },
          "metadata": {},
          "execution_count": 58
        }
      ]
    },
    {
      "cell_type": "markdown",
      "source": [
        "##Ejercicio 7\n",
        "Desarrollar un programa que conste de una clase padre Cuenta y dos subclases PlazoFijo y CajaAhorro. Definir los atributos titular y cantidad y un método para imprimir los datos en la clase Cuenta. La clase CajaAhorro tendrá un método para heredar los datos y uno para mostrar la información.\n",
        "\n",
        "La clase PlazoFijo tendrá dos atributos propios, plazo e interés. Tendrá un método para obtener el importe del interés (cantidad*interés/100) y otro método para mostrar la información, datos del titular plazo, interés y total de interés.\n",
        "\n",
        "Crear al menos un objeto de cada subclase.\n",
        "\n"
      ],
      "metadata": {
        "id": "B7ZTRLdum2NG"
      }
    },
    {
      "cell_type": "code",
      "source": [
        "def show_info_accounting(self):\n",
        "  return f\"titular: {self.titular}, cantidad: {self.amount}\"\n",
        "\n",
        "class Saving:\n",
        "  \"\"\"Caja ahorro\"\"\"\n",
        "  def __init__(self, self_saving):\n",
        "    self.titular = self_saving.titular\n",
        "    self.amount = self_saving.amount\n",
        "\n",
        "  def show_accounting(self):\n",
        "    return show_info_accounting(self)\n",
        "\n",
        "class FixedTerm:\n",
        "  \"\"\"Plazo Fijo\"\"\"\n",
        "  _total_amount = 0\n",
        "  def __init__(self, self_fixed_terms, terms = 0, fee = 0):\n",
        "    self.amount = self_fixed_terms.amount\n",
        "    self.terms = terms # Plazo\n",
        "    self.fee = fee     # interes\n",
        "\n",
        "  def total_fee(self):\n",
        "    self._total_amount = (self.amount * self.fee) / 100\n",
        "    return self._total_amount\n",
        "\n",
        "  def show_info(self):\n",
        "    info = show_info_accounting(self)\n",
        "    return f\"info: {info}, plazo: {self.terms}, interes: {self.fee}, total: {self._total_amount}\"\n",
        "\n",
        "class Account(Saving, FixedTerm):\n",
        "  \"\"\"Cuenta\"\"\"\n",
        "  def __init__(self, titular, amount):\n",
        "    self.titular = titular\n",
        "    self.amount = amount\n",
        "    super(Saving, self).__init__(self)\n",
        "    super(FixedTerm, self).__init__()\n",
        "\n",
        "  def show_account(self):\n",
        "    return show_info_accounting(self)\n",
        "\n",
        "ahorro = Account('Josue', 100)\n",
        "ahorro.terms = 9\n",
        "ahorro.fee = 10\n",
        "ahorro.total_fee()\n",
        "print(ahorro.show_info())\n"
      ],
      "metadata": {
        "id": "F2wvhFNYnI2Z",
        "colab": {
          "base_uri": "https://localhost:8080/"
        },
        "outputId": "d290e758-f1bf-4c5e-ffe5-7c618ab73fdc"
      },
      "execution_count": null,
      "outputs": [
        {
          "output_type": "stream",
          "name": "stdout",
          "text": [
            "info: titular: Josue, cantidad: 100, plazo: 9, interes: 10, total: 10.0\n"
          ]
        }
      ]
    }
  ]
}