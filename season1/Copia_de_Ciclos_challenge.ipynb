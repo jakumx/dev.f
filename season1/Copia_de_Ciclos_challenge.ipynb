{
  "nbformat": 4,
  "nbformat_minor": 0,
  "metadata": {
    "colab": {
      "provenance": [],
      "collapsed_sections": []
    },
    "kernelspec": {
      "name": "python3",
      "display_name": "Python 3"
    },
    "language_info": {
      "name": "python"
    }
  },
  "cells": [
    {
      "cell_type": "markdown",
      "metadata": {
        "id": "VEn_SLPyboN0"
      },
      "source": [
        "# Ciclos\n"
      ]
    },
    {
      "cell_type": "markdown",
      "metadata": {
        "id": "Ltf91jwLSB_d"
      },
      "source": [
        "Lee con atención las instrucciones en los siguientes ejercicios y ejecuta:"
      ]
    },
    {
      "cell_type": "markdown",
      "metadata": {
        "id": "8CXLWwF2TS5D"
      },
      "source": [
        "1. Escribe un ciclo que permita imprimir los números del 1 al 10"
      ]
    },
    {
      "cell_type": "code",
      "metadata": {
        "id": "wAOmpofLR1d5",
        "colab": {
          "base_uri": "https://localhost:8080/"
        },
        "outputId": "4bcbfaa9-1916-4809-8ad7-17c33d0a8f32"
      },
      "source": [
        "[i for i in range(1, 11)]"
      ],
      "execution_count": null,
      "outputs": [
        {
          "output_type": "execute_result",
          "data": {
            "text/plain": [
              "[1, 2, 3, 4, 5, 6, 7, 8, 9, 10]"
            ]
          },
          "metadata": {},
          "execution_count": 7
        }
      ]
    },
    {
      "cell_type": "markdown",
      "metadata": {
        "id": "JGlH_p9ll3yO"
      },
      "source": [
        "2. Escribe un ciclo que imprima los números pares entre el 30 y el 50 (incluyendo el 30 y excluyendo el 50)"
      ]
    },
    {
      "cell_type": "code",
      "metadata": {
        "id": "_hobkTpAUEB4",
        "colab": {
          "base_uri": "https://localhost:8080/"
        },
        "outputId": "9715cb8f-83d2-4c3b-abc3-5802aa65d4a8"
      },
      "source": [
        "[i for i in range(30,50) if i % 2 == 0]"
      ],
      "execution_count": null,
      "outputs": [
        {
          "output_type": "execute_result",
          "data": {
            "text/plain": [
              "[30, 32, 34, 36, 38, 40, 42, 44, 46, 48]"
            ]
          },
          "metadata": {},
          "execution_count": 6
        }
      ]
    },
    {
      "cell_type": "markdown",
      "metadata": {
        "id": "cCqs1tjHNpv4"
      },
      "source": [
        "3. Escribe un ciclo que imprima los valores entre el 3 y el 8 en pasos de 2 en 2."
      ]
    },
    {
      "cell_type": "code",
      "metadata": {
        "colab": {
          "base_uri": "https://localhost:8080/"
        },
        "id": "70-kC-f9oqAe",
        "outputId": "259c2fdb-fa87-4040-f8b3-b00306cdb7d0"
      },
      "source": [
        "[i for i in range(3, 8, 2)]"
      ],
      "execution_count": null,
      "outputs": [
        {
          "output_type": "execute_result",
          "data": {
            "text/plain": [
              "[3, 5, 7]"
            ]
          },
          "metadata": {},
          "execution_count": 8
        }
      ]
    },
    {
      "cell_type": "markdown",
      "metadata": {
        "id": "nTis6gKvoNkm"
      },
      "source": [
        "4. Escribe un ciclo que recorra la siguiente lista e imprima cada nombre de pokemon:"
      ]
    },
    {
      "cell_type": "code",
      "metadata": {
        "id": "C2B4nzcENgB7"
      },
      "source": [
        "pokemon = ['Bulbasaur', 'Ivysaur', 'Squirtle', 'Venusaur', 'Charmander', 'Squirtle', 'Charmeleon', 'Pidgey', 'Pikachu', 'Squirtle']"
      ],
      "execution_count": null,
      "outputs": []
    },
    {
      "cell_type": "code",
      "metadata": {
        "id": "l-hgO3AFkVzk",
        "colab": {
          "base_uri": "https://localhost:8080/"
        },
        "outputId": "e9f8434f-642f-4af9-88b4-87c9e88e90f3"
      },
      "source": [
        "for poke_name in pokemon:\n",
        "  print(poke_name)"
      ],
      "execution_count": null,
      "outputs": [
        {
          "output_type": "stream",
          "name": "stdout",
          "text": [
            "Bulbasaur\n",
            "Ivysaur\n",
            "Squirtle\n",
            "Venusaur\n",
            "Charmander\n",
            "Squirtle\n",
            "Charmeleon\n",
            "Pidgey\n",
            "Pikachu\n",
            "Squirtle\n"
          ]
        }
      ]
    },
    {
      "cell_type": "markdown",
      "metadata": {
        "id": "h7VTsi7Lh3C-"
      },
      "source": [
        "5. Escribe un ciclo que recorra la lista pokemon. En caso de encontrarnos con el nombre 'Squirtle' al iterar la lista, imprima un mensaje con el siguiente formato:\n",
        "\n",
        "index - pokemon - Vamo a calmarno\n",
        "\n",
        "Donde:\n",
        "- index es número de posición en la lista donde encontramos 'Squirtle'. Debe ser una variable.\n",
        "- pokemon es el nombre del pokemon que estamos buscando\n",
        "- \"Vamo a calmarno\" es la frase de nuestro pokemon. "
      ]
    },
    {
      "cell_type": "code",
      "metadata": {
        "id": "I3I7VbTdoin4",
        "colab": {
          "base_uri": "https://localhost:8080/"
        },
        "outputId": "6b94a11e-6bae-4db2-deef-ae9037a911e9"
      },
      "source": [
        "for index, poke_name in enumerate(pokemon):\n",
        "  if poke_name == 'Squirtle':\n",
        "    print(' - '.join([str(index), poke_name, 'Vamo a calmarno']))\n",
        "  else:\n",
        "    print(poke_name)"
      ],
      "execution_count": null,
      "outputs": [
        {
          "output_type": "stream",
          "name": "stdout",
          "text": [
            "Bulbasaur\n",
            "Ivysaur\n",
            "2 - Squirtle - Vamo a calmarno\n",
            "Venusaur\n",
            "Charmander\n",
            "5 - Squirtle - Vamo a calmarno\n",
            "Charmeleon\n",
            "Pidgey\n",
            "Pikachu\n",
            "9 - Squirtle - Vamo a calmarno\n"
          ]
        }
      ]
    },
    {
      "cell_type": "markdown",
      "metadata": {
        "id": "HOwNy5VOorNy"
      },
      "source": [
        "6. Del 0 al 20, muestra los valores en este rango de de 3 en 3, mediante un ciclo while (incluyendo al 20). Utiliza un condicional IF dentro del ciclo para detenerlo (utiliza break)."
      ]
    },
    {
      "cell_type": "code",
      "metadata": {
        "id": "mZx6iGmeoqEA",
        "colab": {
          "base_uri": "https://localhost:8080/"
        },
        "outputId": "3c4734bd-26e7-4d65-a80f-9519b93c8915"
      },
      "source": [
        "count = 0\n",
        "while (True):\n",
        "  if (count > 0 and count % 3 == 0):\n",
        "    print(count)\n",
        "  count += 1\n",
        "  if (count == 20):\n",
        "    break"
      ],
      "execution_count": null,
      "outputs": [
        {
          "output_type": "stream",
          "name": "stdout",
          "text": [
            "3\n",
            "6\n",
            "9\n",
            "12\n",
            "15\n",
            "18\n"
          ]
        }
      ]
    },
    {
      "cell_type": "markdown",
      "metadata": {
        "id": "ato2HirpOAy9"
      },
      "source": [
        "7. Repite el ejercicio del punto 6 pero utilizando sólo la condicional del while."
      ]
    },
    {
      "cell_type": "code",
      "metadata": {
        "id": "r4NtOzm3op94",
        "colab": {
          "base_uri": "https://localhost:8080/"
        },
        "outputId": "67120a56-5b16-4d74-d506-9ae68db9fe7a"
      },
      "source": [
        "count = 0\n",
        "while (count <= 20):\n",
        "  if (count > 0 and count % 3 == 0):\n",
        "    print(count)\n",
        "  count += 1"
      ],
      "execution_count": null,
      "outputs": [
        {
          "output_type": "stream",
          "name": "stdout",
          "text": [
            "3\n",
            "6\n",
            "9\n",
            "12\n",
            "15\n",
            "18\n"
          ]
        }
      ]
    },
    {
      "cell_type": "markdown",
      "metadata": {
        "id": "5W25SYZeORtE"
      },
      "source": [
        "8. Escribe un ciclo para imprimir los números impares entre el 0 y el 10. Utiliza una condicional junto con la palabra reservada \"continue\"."
      ]
    },
    {
      "cell_type": "code",
      "metadata": {
        "id": "mTpYdCzFop7s",
        "colab": {
          "base_uri": "https://localhost:8080/"
        },
        "outputId": "2a944e2e-cd0c-4c98-86e1-b60eab080200"
      },
      "source": [
        "for i in range(11):\n",
        "  if i % 2 == 0:\n",
        "    continue\n",
        "  else:\n",
        "    print(i)"
      ],
      "execution_count": null,
      "outputs": [
        {
          "output_type": "stream",
          "name": "stdout",
          "text": [
            "1\n",
            "3\n",
            "5\n",
            "7\n",
            "9\n"
          ]
        }
      ]
    },
    {
      "cell_type": "markdown",
      "metadata": {
        "id": "_jKHKuBkbxhX"
      },
      "source": [
        "###Recursos extra para estudiar y ejercios\n"
      ]
    },
    {
      "cell_type": "markdown",
      "metadata": {
        "id": "86XEDrCbdBCr"
      },
      "source": [
        "- Uso de [range en Python](https://www.w3schools.com/python/ref_func_range.asp)\n",
        "- Articulo corto de [Ciclos](https://pythonparanovatos.com/blog/como-usar-bucles-en-python/)\n",
        "- Ciclo for según [W3Schools](https://www.w3schools.com/python/python_for_loops.asp)\n",
        "- Ciclo while según [W3Schools](https://www.w3schools.com/python/python_while_loops.asp)\n",
        "- Ejercicios practicos en portal de [W3Schools](https://www.w3schools.com/python/python_exercises.asp)"
      ]
    }
  ]
}